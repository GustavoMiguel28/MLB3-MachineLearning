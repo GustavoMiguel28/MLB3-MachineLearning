{
  "cells": [
    {
      "cell_type": "markdown",
      "metadata": {
        "id": "2c-DNHZ_GupA"
      },
      "source": [
        "#Código final"
      ]
    },
    {
      "cell_type": "markdown",
      "metadata": {
        "id": "ouzm0j9eHspu"
      },
      "source": [
        "###Import libs"
      ]
    },
    {
      "cell_type": "code",
      "execution_count": 11,
      "metadata": {
        "id": "icFI_C6nHrfD"
      },
      "outputs": [],
      "source": [
        "import pandas as pd\n",
        "import awswrangler as ws\n",
        "from ta import add_all_ta_features\n",
        "from sklearn.model_selection import train_test_split\n",
        "from sklearn.multioutput import MultiOutputRegressor\n",
        "from xgboost import XGBRegressor\n",
        "from sklearn.metrics import mean_absolute_error, mean_squared_error, r2_score\n",
        "import numpy as np"
      ]
    },
    {
      "cell_type": "markdown",
      "metadata": {
        "id": "prF-oQejGx4G"
      },
      "source": [
        "###Leitura dos dados"
      ]
    },
    {
      "cell_type": "code",
      "execution_count": null,
      "metadata": {
        "id": "dtqF_iKaIXZc"
      },
      "outputs": [],
      "source": [
        "# ========== OBTER DADOS ==========\n",
        "\n",
        "df_total = wr.athena.read_sql_table(\n",
        "      table='tb_b3_portifolio',\n",
        "      database='refined_b3',\n",
        "      ctas_approach=False,\n",
        "      workgroup=workgroup\n",
        "  )"
      ]
    },
    {
      "cell_type": "code",
      "execution_count": null,
      "metadata": {
        "colab": {
          "base_uri": "https://localhost:8080/",
          "height": 206
        },
        "id": "aHm28OAwJs-h",
        "outputId": "63e69d0b-8789-4ca1-edfd-623e60bcf6b4"
      },
      "outputs": [
        {
          "data": {
            "application/vnd.google.colaboratory.intrinsic+json": {
              "summary": "{\n  \"name\": \"df_total\",\n  \"rows\": 11102,\n  \"fields\": [\n    {\n      \"column\": \"Date\",\n      \"properties\": {\n        \"dtype\": \"date\",\n        \"min\": \"2020-01-02 00:00:00-03:00\",\n        \"max\": \"2025-10-07 00:00:00-03:00\",\n        \"num_unique_values\": 1437,\n        \"samples\": [\n          \"2022-05-26 00:00:00-03:00\",\n          \"2023-01-13 00:00:00-03:00\",\n          \"2022-07-18 00:00:00-03:00\"\n        ],\n        \"semantic_type\": \"\",\n        \"description\": \"\"\n      }\n    },\n    {\n      \"column\": \"Open\",\n      \"properties\": {\n        \"dtype\": \"number\",\n        \"std\": 35.715043795413656,\n        \"min\": 0.5600000023841858,\n        \"max\": 255.15349854621618,\n        \"num_unique_values\": 10405,\n        \"samples\": [\n          27.01487686954882,\n          11.562779374522574,\n          11.050000190734863\n        ],\n        \"semantic_type\": \"\",\n        \"description\": \"\"\n      }\n    },\n    {\n      \"column\": \"High\",\n      \"properties\": {\n        \"dtype\": \"number\",\n        \"std\": 36.34926074851322,\n        \"min\": 0.5699999928474426,\n        \"max\": 256.6037528882349,\n        \"num_unique_values\": 10474,\n        \"samples\": [\n          12.534442120299879,\n          1.8300000429153442,\n          32.68831341237826\n        ],\n        \"semantic_type\": \"\",\n        \"description\": \"\"\n      }\n    },\n    {\n      \"column\": \"Low\",\n      \"properties\": {\n        \"dtype\": \"number\",\n        \"std\": 35.00342118840484,\n        \"min\": 0.550000011920929,\n        \"max\": 242.3731544623156,\n        \"num_unique_values\": 10386,\n        \"samples\": [\n          43.221215281107646,\n          15.10332903563813,\n          33.336901290105196\n        ],\n        \"semantic_type\": \"\",\n        \"description\": \"\"\n      }\n    },\n    {\n      \"column\": \"Close\",\n      \"properties\": {\n        \"dtype\": \"number\",\n        \"std\": 35.658718214908134,\n        \"min\": 0.550000011920929,\n        \"max\": 248.8086395263672,\n        \"num_unique_values\": 9294,\n        \"samples\": [\n          13.783960342407227,\n          31.93840217590332,\n          16.414310455322266\n        ],\n        \"semantic_type\": \"\",\n        \"description\": \"\"\n      }\n    },\n    {\n      \"column\": \"Volume\",\n      \"properties\": {\n        \"dtype\": \"number\",\n        \"std\": 26489441,\n        \"min\": 0,\n        \"max\": 499194800,\n        \"num_unique_values\": 11017,\n        \"samples\": [\n          11512800,\n          8655300,\n          23869010\n        ],\n        \"semantic_type\": \"\",\n        \"description\": \"\"\n      }\n    },\n    {\n      \"column\": \"Dividends\",\n      \"properties\": {\n        \"dtype\": \"number\",\n        \"std\": 0.15791650974597798,\n        \"min\": 0.0,\n        \"max\": 8.197239,\n        \"num_unique_values\": 108,\n        \"samples\": [\n          0.343201,\n          1.893576,\n          3.250487\n        ],\n        \"semantic_type\": \"\",\n        \"description\": \"\"\n      }\n    },\n    {\n      \"column\": \"Stock Splits\",\n      \"properties\": {\n        \"dtype\": \"number\",\n        \"std\": 0.0433315466097099,\n        \"min\": 0.0,\n        \"max\": 4.0,\n        \"num_unique_values\": 4,\n        \"samples\": [\n          1.1,\n          0.1,\n          0.0\n        ],\n        \"semantic_type\": \"\",\n        \"description\": \"\"\n      }\n    },\n    {\n      \"column\": \"Ticker\",\n      \"properties\": {\n        \"dtype\": \"category\",\n        \"num_unique_values\": 8,\n        \"samples\": [\n          \"VALE3\",\n          \"AZUL4\",\n          \"PETR4\"\n        ],\n        \"semantic_type\": \"\",\n        \"description\": \"\"\n      }\n    }\n  ]\n}",
              "type": "dataframe",
              "variable_name": "df_total"
            },
            "text/html": [
              "\n",
              "  <div id=\"df-77d27f7d-30dc-475d-991b-716a3195f543\" class=\"colab-df-container\">\n",
              "    <div>\n",
              "<style scoped>\n",
              "    .dataframe tbody tr th:only-of-type {\n",
              "        vertical-align: middle;\n",
              "    }\n",
              "\n",
              "    .dataframe tbody tr th {\n",
              "        vertical-align: top;\n",
              "    }\n",
              "\n",
              "    .dataframe thead th {\n",
              "        text-align: right;\n",
              "    }\n",
              "</style>\n",
              "<table border=\"1\" class=\"dataframe\">\n",
              "  <thead>\n",
              "    <tr style=\"text-align: right;\">\n",
              "      <th></th>\n",
              "      <th>Date</th>\n",
              "      <th>Open</th>\n",
              "      <th>High</th>\n",
              "      <th>Low</th>\n",
              "      <th>Close</th>\n",
              "      <th>Volume</th>\n",
              "      <th>Dividends</th>\n",
              "      <th>Stock Splits</th>\n",
              "      <th>Ticker</th>\n",
              "    </tr>\n",
              "  </thead>\n",
              "  <tbody>\n",
              "    <tr>\n",
              "      <th>0</th>\n",
              "      <td>2020-01-02 00:00:00-03:00</td>\n",
              "      <td>9.038210</td>\n",
              "      <td>9.094496</td>\n",
              "      <td>8.978963</td>\n",
              "      <td>9.094496</td>\n",
              "      <td>37774500</td>\n",
              "      <td>0.0</td>\n",
              "      <td>0.0</td>\n",
              "      <td>PETR4</td>\n",
              "    </tr>\n",
              "    <tr>\n",
              "      <th>1</th>\n",
              "      <td>2020-01-03 00:00:00-03:00</td>\n",
              "      <td>9.147817</td>\n",
              "      <td>9.254463</td>\n",
              "      <td>9.020435</td>\n",
              "      <td>9.020435</td>\n",
              "      <td>71595600</td>\n",
              "      <td>0.0</td>\n",
              "      <td>0.0</td>\n",
              "      <td>PETR4</td>\n",
              "    </tr>\n",
              "    <tr>\n",
              "      <th>2</th>\n",
              "      <td>2020-01-06 00:00:00-03:00</td>\n",
              "      <td>9.014511</td>\n",
              "      <td>9.165592</td>\n",
              "      <td>8.872317</td>\n",
              "      <td>9.127081</td>\n",
              "      <td>81844000</td>\n",
              "      <td>0.0</td>\n",
              "      <td>0.0</td>\n",
              "      <td>PETR4</td>\n",
              "    </tr>\n",
              "    <tr>\n",
              "      <th>3</th>\n",
              "      <td>2020-01-07 00:00:00-03:00</td>\n",
              "      <td>9.130042</td>\n",
              "      <td>9.147816</td>\n",
              "      <td>9.026359</td>\n",
              "      <td>9.091532</td>\n",
              "      <td>32822000</td>\n",
              "      <td>0.0</td>\n",
              "      <td>0.0</td>\n",
              "      <td>PETR4</td>\n",
              "    </tr>\n",
              "    <tr>\n",
              "      <th>4</th>\n",
              "      <td>2020-01-08 00:00:00-03:00</td>\n",
              "      <td>9.091531</td>\n",
              "      <td>9.115230</td>\n",
              "      <td>8.958224</td>\n",
              "      <td>9.035246</td>\n",
              "      <td>48215600</td>\n",
              "      <td>0.0</td>\n",
              "      <td>0.0</td>\n",
              "      <td>PETR4</td>\n",
              "    </tr>\n",
              "  </tbody>\n",
              "</table>\n",
              "</div>\n",
              "    <div class=\"colab-df-buttons\">\n",
              "\n",
              "  <div class=\"colab-df-container\">\n",
              "    <button class=\"colab-df-convert\" onclick=\"convertToInteractive('df-77d27f7d-30dc-475d-991b-716a3195f543')\"\n",
              "            title=\"Convert this dataframe to an interactive table.\"\n",
              "            style=\"display:none;\">\n",
              "\n",
              "  <svg xmlns=\"http://www.w3.org/2000/svg\" height=\"24px\" viewBox=\"0 -960 960 960\">\n",
              "    <path d=\"M120-120v-720h720v720H120Zm60-500h600v-160H180v160Zm220 220h160v-160H400v160Zm0 220h160v-160H400v160ZM180-400h160v-160H180v160Zm440 0h160v-160H620v160ZM180-180h160v-160H180v160Zm440 0h160v-160H620v160Z\"/>\n",
              "  </svg>\n",
              "    </button>\n",
              "\n",
              "  <style>\n",
              "    .colab-df-container {\n",
              "      display:flex;\n",
              "      gap: 12px;\n",
              "    }\n",
              "\n",
              "    .colab-df-convert {\n",
              "      background-color: #E8F0FE;\n",
              "      border: none;\n",
              "      border-radius: 50%;\n",
              "      cursor: pointer;\n",
              "      display: none;\n",
              "      fill: #1967D2;\n",
              "      height: 32px;\n",
              "      padding: 0 0 0 0;\n",
              "      width: 32px;\n",
              "    }\n",
              "\n",
              "    .colab-df-convert:hover {\n",
              "      background-color: #E2EBFA;\n",
              "      box-shadow: 0px 1px 2px rgba(60, 64, 67, 0.3), 0px 1px 3px 1px rgba(60, 64, 67, 0.15);\n",
              "      fill: #174EA6;\n",
              "    }\n",
              "\n",
              "    .colab-df-buttons div {\n",
              "      margin-bottom: 4px;\n",
              "    }\n",
              "\n",
              "    [theme=dark] .colab-df-convert {\n",
              "      background-color: #3B4455;\n",
              "      fill: #D2E3FC;\n",
              "    }\n",
              "\n",
              "    [theme=dark] .colab-df-convert:hover {\n",
              "      background-color: #434B5C;\n",
              "      box-shadow: 0px 1px 3px 1px rgba(0, 0, 0, 0.15);\n",
              "      filter: drop-shadow(0px 1px 2px rgba(0, 0, 0, 0.3));\n",
              "      fill: #FFFFFF;\n",
              "    }\n",
              "  </style>\n",
              "\n",
              "    <script>\n",
              "      const buttonEl =\n",
              "        document.querySelector('#df-77d27f7d-30dc-475d-991b-716a3195f543 button.colab-df-convert');\n",
              "      buttonEl.style.display =\n",
              "        google.colab.kernel.accessAllowed ? 'block' : 'none';\n",
              "\n",
              "      async function convertToInteractive(key) {\n",
              "        const element = document.querySelector('#df-77d27f7d-30dc-475d-991b-716a3195f543');\n",
              "        const dataTable =\n",
              "          await google.colab.kernel.invokeFunction('convertToInteractive',\n",
              "                                                    [key], {});\n",
              "        if (!dataTable) return;\n",
              "\n",
              "        const docLinkHtml = 'Like what you see? Visit the ' +\n",
              "          '<a target=\"_blank\" href=https://colab.research.google.com/notebooks/data_table.ipynb>data table notebook</a>'\n",
              "          + ' to learn more about interactive tables.';\n",
              "        element.innerHTML = '';\n",
              "        dataTable['output_type'] = 'display_data';\n",
              "        await google.colab.output.renderOutput(dataTable, element);\n",
              "        const docLink = document.createElement('div');\n",
              "        docLink.innerHTML = docLinkHtml;\n",
              "        element.appendChild(docLink);\n",
              "      }\n",
              "    </script>\n",
              "  </div>\n",
              "\n",
              "\n",
              "    <div id=\"df-331019d6-08b3-4156-acd8-d3895bd2cef0\">\n",
              "      <button class=\"colab-df-quickchart\" onclick=\"quickchart('df-331019d6-08b3-4156-acd8-d3895bd2cef0')\"\n",
              "                title=\"Suggest charts\"\n",
              "                style=\"display:none;\">\n",
              "\n",
              "<svg xmlns=\"http://www.w3.org/2000/svg\" height=\"24px\"viewBox=\"0 0 24 24\"\n",
              "     width=\"24px\">\n",
              "    <g>\n",
              "        <path d=\"M19 3H5c-1.1 0-2 .9-2 2v14c0 1.1.9 2 2 2h14c1.1 0 2-.9 2-2V5c0-1.1-.9-2-2-2zM9 17H7v-7h2v7zm4 0h-2V7h2v10zm4 0h-2v-4h2v4z\"/>\n",
              "    </g>\n",
              "</svg>\n",
              "      </button>\n",
              "\n",
              "<style>\n",
              "  .colab-df-quickchart {\n",
              "      --bg-color: #E8F0FE;\n",
              "      --fill-color: #1967D2;\n",
              "      --hover-bg-color: #E2EBFA;\n",
              "      --hover-fill-color: #174EA6;\n",
              "      --disabled-fill-color: #AAA;\n",
              "      --disabled-bg-color: #DDD;\n",
              "  }\n",
              "\n",
              "  [theme=dark] .colab-df-quickchart {\n",
              "      --bg-color: #3B4455;\n",
              "      --fill-color: #D2E3FC;\n",
              "      --hover-bg-color: #434B5C;\n",
              "      --hover-fill-color: #FFFFFF;\n",
              "      --disabled-bg-color: #3B4455;\n",
              "      --disabled-fill-color: #666;\n",
              "  }\n",
              "\n",
              "  .colab-df-quickchart {\n",
              "    background-color: var(--bg-color);\n",
              "    border: none;\n",
              "    border-radius: 50%;\n",
              "    cursor: pointer;\n",
              "    display: none;\n",
              "    fill: var(--fill-color);\n",
              "    height: 32px;\n",
              "    padding: 0;\n",
              "    width: 32px;\n",
              "  }\n",
              "\n",
              "  .colab-df-quickchart:hover {\n",
              "    background-color: var(--hover-bg-color);\n",
              "    box-shadow: 0 1px 2px rgba(60, 64, 67, 0.3), 0 1px 3px 1px rgba(60, 64, 67, 0.15);\n",
              "    fill: var(--button-hover-fill-color);\n",
              "  }\n",
              "\n",
              "  .colab-df-quickchart-complete:disabled,\n",
              "  .colab-df-quickchart-complete:disabled:hover {\n",
              "    background-color: var(--disabled-bg-color);\n",
              "    fill: var(--disabled-fill-color);\n",
              "    box-shadow: none;\n",
              "  }\n",
              "\n",
              "  .colab-df-spinner {\n",
              "    border: 2px solid var(--fill-color);\n",
              "    border-color: transparent;\n",
              "    border-bottom-color: var(--fill-color);\n",
              "    animation:\n",
              "      spin 1s steps(1) infinite;\n",
              "  }\n",
              "\n",
              "  @keyframes spin {\n",
              "    0% {\n",
              "      border-color: transparent;\n",
              "      border-bottom-color: var(--fill-color);\n",
              "      border-left-color: var(--fill-color);\n",
              "    }\n",
              "    20% {\n",
              "      border-color: transparent;\n",
              "      border-left-color: var(--fill-color);\n",
              "      border-top-color: var(--fill-color);\n",
              "    }\n",
              "    30% {\n",
              "      border-color: transparent;\n",
              "      border-left-color: var(--fill-color);\n",
              "      border-top-color: var(--fill-color);\n",
              "      border-right-color: var(--fill-color);\n",
              "    }\n",
              "    40% {\n",
              "      border-color: transparent;\n",
              "      border-right-color: var(--fill-color);\n",
              "      border-top-color: var(--fill-color);\n",
              "    }\n",
              "    60% {\n",
              "      border-color: transparent;\n",
              "      border-right-color: var(--fill-color);\n",
              "    }\n",
              "    80% {\n",
              "      border-color: transparent;\n",
              "      border-right-color: var(--fill-color);\n",
              "      border-bottom-color: var(--fill-color);\n",
              "    }\n",
              "    90% {\n",
              "      border-color: transparent;\n",
              "      border-bottom-color: var(--fill-color);\n",
              "    }\n",
              "  }\n",
              "</style>\n",
              "\n",
              "      <script>\n",
              "        async function quickchart(key) {\n",
              "          const quickchartButtonEl =\n",
              "            document.querySelector('#' + key + ' button');\n",
              "          quickchartButtonEl.disabled = true;  // To prevent multiple clicks.\n",
              "          quickchartButtonEl.classList.add('colab-df-spinner');\n",
              "          try {\n",
              "            const charts = await google.colab.kernel.invokeFunction(\n",
              "                'suggestCharts', [key], {});\n",
              "          } catch (error) {\n",
              "            console.error('Error during call to suggestCharts:', error);\n",
              "          }\n",
              "          quickchartButtonEl.classList.remove('colab-df-spinner');\n",
              "          quickchartButtonEl.classList.add('colab-df-quickchart-complete');\n",
              "        }\n",
              "        (() => {\n",
              "          let quickchartButtonEl =\n",
              "            document.querySelector('#df-331019d6-08b3-4156-acd8-d3895bd2cef0 button');\n",
              "          quickchartButtonEl.style.display =\n",
              "            google.colab.kernel.accessAllowed ? 'block' : 'none';\n",
              "        })();\n",
              "      </script>\n",
              "    </div>\n",
              "\n",
              "    </div>\n",
              "  </div>\n"
            ],
            "text/plain": [
              "                       Date      Open      High       Low     Close    Volume  \\\n",
              "0 2020-01-02 00:00:00-03:00  9.038210  9.094496  8.978963  9.094496  37774500   \n",
              "1 2020-01-03 00:00:00-03:00  9.147817  9.254463  9.020435  9.020435  71595600   \n",
              "2 2020-01-06 00:00:00-03:00  9.014511  9.165592  8.872317  9.127081  81844000   \n",
              "3 2020-01-07 00:00:00-03:00  9.130042  9.147816  9.026359  9.091532  32822000   \n",
              "4 2020-01-08 00:00:00-03:00  9.091531  9.115230  8.958224  9.035246  48215600   \n",
              "\n",
              "   Dividends  Stock Splits Ticker  \n",
              "0        0.0           0.0  PETR4  \n",
              "1        0.0           0.0  PETR4  \n",
              "2        0.0           0.0  PETR4  \n",
              "3        0.0           0.0  PETR4  \n",
              "4        0.0           0.0  PETR4  "
            ]
          },
          "execution_count": 6,
          "metadata": {},
          "output_type": "execute_result"
        }
      ],
      "source": [
        "df_total.head()"
      ]
    },
    {
      "cell_type": "markdown",
      "metadata": {
        "id": "5ujIzWHCKJgU"
      },
      "source": [
        "###Pré-processamento"
      ]
    },
    {
      "cell_type": "code",
      "execution_count": 7,
      "metadata": {
        "id": "cABWdIf8Juv4"
      },
      "outputs": [],
      "source": [
        "# ========== PRÉ-PROCESSAMENTO ==========\n",
        "\n",
        "# Aplicar indicadores técnicos\n",
        "df_total = add_all_ta_features(\n",
        "    df_total, open=\"Open\", high=\"High\", low=\"Low\", close=\"Close\", volume=\"Volume\", fillna=True\n",
        ")\n",
        "\n",
        "# Ordenar e criar colunas de previsão para os próximos N dias\n",
        "df_total.sort_values(['Ticker', 'Date'], inplace=True)\n",
        "n_dias_futuro = 5  # Número de dias que queremos prever\n",
        "for i in range(1, n_dias_futuro + 1):\n",
        "    df_total[f'Close_+{i}d'] = df_total.groupby('Ticker')['Close'].shift(-i)\n",
        "\n",
        "# Remover linhas com valores ausentes\n",
        "df_total.dropna(inplace=True)\n",
        "\n",
        "# Selecionar colunas de entrada e saída\n",
        "features = df_total.select_dtypes(include=['float64', 'int64']).drop(\n",
        "    columns=[f'Close_+{i}d' for i in range(1, n_dias_futuro + 1)]\n",
        ").columns.tolist()\n",
        "\n",
        "X = df_total[features]\n",
        "y = df_total[[f'Close_+{i}d' for i in range(1, n_dias_futuro + 1)]]"
      ]
    },
    {
      "cell_type": "markdown",
      "metadata": {
        "id": "cEPOszaPKrPS"
      },
      "source": [
        "###Treinamento"
      ]
    },
    {
      "cell_type": "code",
      "execution_count": null,
      "metadata": {
        "colab": {
          "base_uri": "https://localhost:8080/"
        },
        "id": "0bhKC1ExKXxk",
        "outputId": "36be7b14-ed61-4301-b83b-922f2cf86155"
      },
      "outputs": [],
      "source": [
        "# ========== TREINAMENTO ==========\n",
        "X_train, X_test, y_train, y_test = train_test_split(X, y, test_size=0.2, shuffle=False)\n",
        "\n",
        "# Regressor com multi-output\n",
        "modelo = MultiOutputRegressor(XGBRegressor())\n",
        "modelo.fit(X_train, y_train)"
      ]
    },
    {
      "cell_type": "markdown",
      "metadata": {
        "id": "y7vOUF_KLXkl"
      },
      "source": [
        "###Avaliação"
      ]
    },
    {
      "cell_type": "code",
      "execution_count": 13,
      "metadata": {
        "colab": {
          "base_uri": "https://localhost:8080/"
        },
        "id": "5pCKrtWvKtCf",
        "outputId": "99d0a065-0d2f-448c-a375-3b8eabf9ac22"
      },
      "outputs": [
        {
          "name": "stdout",
          "output_type": "stream",
          "text": [
            "\n",
            "===== MÉTRICAS DE AVALIAÇÃO =====\n",
            "MAE  (Erro Médio Absoluto): 3.85\n",
            "MSE  (Erro Quadrático Médio): 37.38\n",
            "RMSE (Raiz do Erro Quadrático Médio): 6.11\n",
            "R²   (Coeficiente de Determinação): 0.9456\n"
          ]
        }
      ],
      "source": [
        "y_pred = modelo.predict(X_test)\n",
        "\n",
        "mae = mean_absolute_error(y_test, y_pred)\n",
        "mse = mean_squared_error(y_test, y_pred)\n",
        "rmse = np.sqrt(mse)\n",
        "r2 = r2_score(y_test, y_pred)\n",
        "\n",
        "print(f\"\\n===== MÉTRICAS DE AVALIAÇÃO =====\")\n",
        "print(f\"MAE  (Erro Médio Absoluto): {mae:.2f}\")\n",
        "print(f\"MSE  (Erro Quadrático Médio): {mse:.2f}\")\n",
        "print(f\"RMSE (Raiz do Erro Quadrático Médio): {rmse:.2f}\")\n",
        "print(f\"R²   (Coeficiente de Determinação): {r2:.4f}\")"
      ]
    },
    {
      "cell_type": "markdown",
      "metadata": {
        "id": "GosoRgFbL19l"
      },
      "source": [
        "###Previsão"
      ]
    },
    {
      "cell_type": "code",
      "execution_count": 14,
      "metadata": {
        "colab": {
          "base_uri": "https://localhost:8080/"
        },
        "id": "i29UUzcCLj9d",
        "outputId": "825cae81-6241-4c90-c939-37c98cc3d809"
      },
      "outputs": [
        {
          "name": "stdout",
          "output_type": "stream",
          "text": [
            "\n",
            "Ticker: ABEV3\n",
            "  Dia_+1: R$ 12.170000076293945\n",
            "  Dia_+2: R$ 12.130000114440918\n",
            "  Dia_+3: R$ 12.020000457763672\n",
            "  Dia_+4: R$ 12.239999771118164\n",
            "  Dia_+5: R$ 12.220000267028809\n",
            "\n",
            "Ticker: AZUL4\n",
            "  Dia_+1: R$ 1.25\n",
            "  Dia_+2: R$ 1.1200000047683716\n",
            "  Dia_+3: R$ 1.2100000381469727\n",
            "  Dia_+4: R$ 1.2999999523162842\n",
            "  Dia_+5: R$ 1.0299999713897705\n",
            "\n",
            "Ticker: BBDC4\n",
            "  Dia_+1: R$ 17.549999237060547\n",
            "  Dia_+2: R$ 17.479999542236328\n",
            "  Dia_+3: R$ 17.40999984741211\n",
            "  Dia_+4: R$ 17.299999237060547\n",
            "  Dia_+5: R$ 17.0\n",
            "\n",
            "Ticker: ITUB4\n",
            "  Dia_+1: R$ 38.56999969482422\n",
            "  Dia_+2: R$ 38.25\n",
            "  Dia_+3: R$ 38.29999923706055\n",
            "  Dia_+4: R$ 38.02000045776367\n",
            "  Dia_+5: R$ 37.130001068115234\n",
            "\n",
            "Ticker: MGLU3\n",
            "  Dia_+1: R$ 9.569999694824219\n",
            "  Dia_+2: R$ 9.260000228881836\n",
            "  Dia_+3: R$ 9.460000038146973\n",
            "  Dia_+4: R$ 9.1899995803833\n",
            "  Dia_+5: R$ 8.979999542236328\n",
            "\n",
            "Ticker: PETR4\n",
            "  Dia_+1: R$ 31.6299991607666\n",
            "  Dia_+2: R$ 31.059999465942383\n",
            "  Dia_+3: R$ 31.059999465942383\n",
            "  Dia_+4: R$ 31.3700008392334\n",
            "  Dia_+5: R$ 30.93000030517578\n",
            "\n",
            "Ticker: RAIZ4\n",
            "  Dia_+1: R$ 1.090000033378601\n",
            "  Dia_+2: R$ 1.3200000524520874\n",
            "  Dia_+3: R$ 1.2200000286102295\n",
            "  Dia_+4: R$ 1.2899999618530273\n",
            "  Dia_+5: R$ 1.590000033378601\n",
            "\n",
            "Ticker: VALE3\n",
            "  Dia_+1: R$ 67.51000213623047\n",
            "  Dia_+2: R$ 59.5099983215332\n",
            "  Dia_+3: R$ 56.79999923706055\n",
            "  Dia_+4: R$ 52.88999938964844\n",
            "  Dia_+5: R$ 50.38999938964844\n"
          ]
        }
      ],
      "source": [
        "# ========== PREVISÃO PARA OS PRÓXIMOS DIAS ==========\n",
        "ultimos = df_total.groupby('Ticker').tail(1)\n",
        "\n",
        "previsoes_finais = []\n",
        "\n",
        "for _, row in ultimos.iterrows():\n",
        "    entrada = row[features].values.reshape(1, -1)\n",
        "    previsao = modelo.predict(entrada)[0]\n",
        "\n",
        "    print(f\"\\nTicker: {row['Ticker']}\")\n",
        "    previsao_dict = {'Ticker': row['Ticker']}\n",
        "    for i in range(n_dias_futuro):\n",
        "        dia = f'Dia_+{i+1}'\n",
        "        valor = round(previsao[i], 2)\n",
        "        previsao_dict[dia] = valor\n",
        "        print(f\"  {dia}: R$ {valor}\")\n",
        "\n",
        "    previsoes_finais.append(previsao_dict)"
      ]
    },
    {
      "cell_type": "code",
      "execution_count": 15,
      "metadata": {
        "colab": {
          "base_uri": "https://localhost:8080/"
        },
        "id": "7HT0qc0IL9aP",
        "outputId": "237c0cbf-37f5-4779-b344-891006e617d1"
      },
      "outputs": [
        {
          "name": "stdout",
          "output_type": "stream",
          "text": [
            "\n",
            "===== TABELA DE PREVISÕES =====\n",
            "  Ticker     Dia_+1     Dia_+2     Dia_+3     Dia_+4     Dia_+5\n",
            "0  ABEV3  12.170000  12.130000  12.020000  12.240000  12.220000\n",
            "1  AZUL4   1.250000   1.120000   1.210000   1.300000   1.030000\n",
            "2  BBDC4  17.549999  17.480000  17.410000  17.299999  17.000000\n",
            "3  ITUB4  38.570000  38.250000  38.299999  38.020000  37.130001\n",
            "4  MGLU3   9.570000   9.260000   9.460000   9.190000   8.980000\n",
            "5  PETR4  31.629999  31.059999  31.059999  31.370001  30.930000\n",
            "6  RAIZ4   1.090000   1.320000   1.220000   1.290000   1.590000\n",
            "7  VALE3  67.510002  59.509998  56.799999  52.889999  50.389999\n"
          ]
        }
      ],
      "source": [
        "# Converter previsões em DataFrame\n",
        "df_previsoes = pd.DataFrame(previsoes_finais)\n",
        "print(\"\\n===== TABELA DE PREVISÕES =====\")\n",
        "print(df_previsoes)"
      ]
    },
    {
      "cell_type": "markdown",
      "metadata": {},
      "source": [
        "###Salvando dados na tabela"
      ]
    },
    {
      "cell_type": "code",
      "execution_count": null,
      "metadata": {
        "id": "Gy2cQHu8MCVu"
      },
      "outputs": [],
      "source": [
        "wr.s3.to_parquet(\n",
        "        df=df_previsoes,\n",
        "        path='fiap-postech-bigdataarchiture/refined_b3/tb_b3_previsoes/',\n",
        "        dataset=True,\n",
        "        database='refined_b3',\n",
        "        table='tb_b3_portifolio_previsoes',\n",
        "        mode=\"overwrite\",\n",
        "        compression=\"snappy\"\n",
        "    )"
      ]
    }
  ],
  "metadata": {
    "colab": {
      "provenance": []
    },
    "kernelspec": {
      "display_name": "Python 3",
      "name": "python3"
    },
    "language_info": {
      "name": "python"
    }
  },
  "nbformat": 4,
  "nbformat_minor": 0
}
